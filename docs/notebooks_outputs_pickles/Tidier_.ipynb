{
 "cells": [
  {
   "cell_type": "code",
   "execution_count": null,
   "metadata": {
    "collapsed": true
   },
   "outputs": [],
   "source": [
    "% matplotlib inline\n",
    "\n",
    "import matplotlib.pyplot as plt\n",
    "import seaborn as sb"
   ]
  },
  {
   "cell_type": "code",
   "execution_count": null,
   "metadata": {
    "collapsed": true
   },
   "outputs": [],
   "source": [
    "sb.set_style(\"darkgrid\", {\"axes.facecolor\": \".9\"})\n",
    "sb.set_context(\"talk\")"
   ]
  },
  {
   "cell_type": "code",
   "execution_count": null,
   "metadata": {
    "collapsed": true
   },
   "outputs": [],
   "source": [
    "import pandas as pd\n",
    "import numpy as np"
   ]
  },
  {
   "cell_type": "code",
   "execution_count": null,
   "metadata": {
    "collapsed": true
   },
   "outputs": [],
   "source": [
    "import statsmodels.api as sm\n",
    "from patsy import dmatrices\n",
    "import statsmodels.discrete.discrete_model as smDiscrete"
   ]
  },
  {
   "cell_type": "code",
   "execution_count": null,
   "metadata": {
    "collapsed": true
   },
   "outputs": [],
   "source": [
    "DF0 = pd.read_csv('combined_WeatherEDvisitData_2006-2014.csv',index_col=0)"
   ]
  },
  {
   "cell_type": "code",
   "execution_count": null,
   "metadata": {
    "collapsed": true
   },
   "outputs": [],
   "source": [
    "DF0['sqrt_DmeanPM25conc'] = DF0['Daily Mean PM2.5 Concentration']**0.5\n",
    "DF0['sqrt_DmeanOzoneconc'] = DF0['Mean Daily Max 8-hr Ozone Concentration']**0.5\n",
    "DF0['ln_PRCP'] = np.log(DF0['PRCP (in)'])\n",
    "DF0['ln_SD'] = np.log(DF0['SD'])\n",
    "DF0['Tcount_abvMedian'] = (DF0.Total_Count>DF0.Total_Count.median()).astype(int)  ###\n",
    "DF0['ln_Tcount'] = np.log(DF0['Total_Count'])\n",
    "\n",
    "DF0.columns"
   ]
  },
  {
   "cell_type": "code",
   "execution_count": null,
   "metadata": {
    "collapsed": true
   },
   "outputs": [],
   "source": [
    "DF = DF0[['YR', 'MTH', 'DAY', 'DIR', 'SPD', 'TEMPc', 'DEWPc', 'RelHUM',\n",
    "       'SD','PRCP (in)', 'ln_PRCP', 'ln_SD',\n",
    "       'Mean Daily Max 8-hr Ozone Concentration',\n",
    "       'Daily Mean PM2.5 Concentration', \n",
    "        'sqrt_DmeanPM25conc','sqrt_DmeanOzoneconc',\n",
    "       'Tcount_abvMedian','Total_Count', 'ln_Tcount',\n",
    "       'Count_(Age_group_0-4)', 'Count_(Age_group_5-17)',\n",
    "       'Count_(Age_group_18-64)', 'Count_(Age_group_65+)']]"
   ]
  },
  {
   "cell_type": "code",
   "execution_count": null,
   "metadata": {
    "collapsed": true
   },
   "outputs": [],
   "source": [
    "corrmat = DF.corr()\n",
    "\n",
    "f, ax = plt.subplots(figsize=(12, 9))\n",
    "# corrmat.columns.get_level_values()\n",
    "sb.heatmap(corrmat, vmax=.8, square=True, linewidths=1.5);\n",
    "f.tight_layout()\n"
   ]
  },
  {
   "cell_type": "code",
   "execution_count": null,
   "metadata": {
    "collapsed": true
   },
   "outputs": [],
   "source": []
  },
  {
   "cell_type": "code",
   "execution_count": null,
   "metadata": {
    "collapsed": true
   },
   "outputs": [],
   "source": [
    "DFxy = DF[['YR', 'MTH', 'DAY', 'DIR', 'SPD', 'TEMPc', 'DEWPc', 'RelHUM',\n",
    "       'SD','PRCP (in)', \n",
    "#         'ln_PRCP', 'ln_SD',\n",
    "       'Mean Daily Max 8-hr Ozone Concentration',\n",
    "       'Daily Mean PM2.5 Concentration', \n",
    "#         'sqrt_DmeanPM25conc','sqrt_DmeanOzoneconc',\n",
    "#        'Tcount_abvMedian',\n",
    "           'Total_Count', \n",
    "#            'ln_Tcount',#]],\n",
    "       'Count_(Age_group_0-4)', 'Count_(Age_group_5-17)',\n",
    "       'Count_(Age_group_18-64)', 'Count_(Age_group_65+)']]\n",
    "\n",
    "# DFxy['Tcount_abvMedian'] = (DF.Total_Count>DF.Total_Count.median()).astype(int)\n",
    "DFx = DFxy.drop(['Total_Count'],axis=1)\n",
    "DFx = sm.add_constant(DFx)\n",
    "DFy = DFxy[['Total_Count']]\n",
    "# DFx\n",
    "# DFy"
   ]
  },
  {
   "cell_type": "code",
   "execution_count": null,
   "metadata": {
    "collapsed": true
   },
   "outputs": [],
   "source": [
    "corrmat = DFxy.corr()\n",
    "\n",
    "f, ax = plt.subplots(figsize=(12, 9))\n",
    "# corrmat.columns.get_level_values()\n",
    "sb.heatmap(corrmat, vmax=.8, square=True, linewidths=1.5);\n",
    "f.tight_layout()"
   ]
  },
  {
   "cell_type": "code",
   "execution_count": null,
   "metadata": {
    "collapsed": true
   },
   "outputs": [],
   "source": []
  },
  {
   "cell_type": "code",
   "execution_count": null,
   "metadata": {
    "collapsed": true
   },
   "outputs": [],
   "source": []
  },
  {
   "cell_type": "code",
   "execution_count": null,
   "metadata": {
    "collapsed": true
   },
   "outputs": [],
   "source": []
  },
  {
   "cell_type": "code",
   "execution_count": null,
   "metadata": {
    "collapsed": true
   },
   "outputs": [],
   "source": []
  },
  {
   "cell_type": "code",
   "execution_count": null,
   "metadata": {
    "collapsed": true
   },
   "outputs": [],
   "source": []
  },
  {
   "cell_type": "code",
   "execution_count": null,
   "metadata": {
    "collapsed": true
   },
   "outputs": [],
   "source": []
  }
 ],
 "metadata": {
  "kernelspec": {
   "display_name": "Python [conda root]",
   "language": "python",
   "name": "conda-root-py"
  },
  "language_info": {
   "codemirror_mode": {
    "name": "ipython",
    "version": 3
   },
   "file_extension": ".py",
   "mimetype": "text/x-python",
   "name": "python",
   "nbconvert_exporter": "python",
   "pygments_lexer": "ipython3",
   "version": "3.5.2"
  }
 },
 "nbformat": 4,
 "nbformat_minor": 1
}
